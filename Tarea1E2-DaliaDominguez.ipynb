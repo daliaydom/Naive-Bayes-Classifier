{
 "cells": [
  {
   "cell_type": "markdown",
   "id": "c30a874e-beff-466b-a438-d0e737493550",
   "metadata": {},
   "source": [
    "# Ejercicio 2 "
   ]
  },
  {
   "cell_type": "code",
   "execution_count": 1,
   "id": "588358d8-8869-4a95-9da3-e92132abe116",
   "metadata": {},
   "outputs": [],
   "source": [
    "import numpy as np\n",
    "import pandas as pd\n",
    "import matplotlib.pyplot as plt\n",
    "from sklearn.model_selection import train_test_split"
   ]
  },
  {
   "cell_type": "markdown",
   "id": "c434c912-4cdb-4204-a18d-bf1f6260613a",
   "metadata": {},
   "source": [
    "Considerando un histograma de palabras generado, excepto por el último dígito, que consideraremos $0=$ Legitimate y $1=$ spam."
   ]
  },
  {
   "cell_type": "markdown",
   "id": "14fc1ad0-0048-4952-8d32-8b063aee03ff",
   "metadata": {},
   "source": [
    "Vamos hacer un data frame con la información en el archivo csv"
   ]
  },
  {
   "cell_type": "code",
   "execution_count": 2,
   "id": "ab762406-4f02-4963-abbc-e3fc5578c803",
   "metadata": {},
   "outputs": [],
   "source": [
    "data = []\n",
    "with open(\"spam.csv\",'r') as f:\n",
    "    for line in f:\n",
    "        data.append(line.split())\n",
    "    f.close()"
   ]
  },
  {
   "cell_type": "code",
   "execution_count": 3,
   "id": "b0d3fa61-f781-4125-9d68-e737de1c9fc9",
   "metadata": {},
   "outputs": [
    {
     "data": {
      "text/html": [
       "<div>\n",
       "<style scoped>\n",
       "    .dataframe tbody tr th:only-of-type {\n",
       "        vertical-align: middle;\n",
       "    }\n",
       "\n",
       "    .dataframe tbody tr th {\n",
       "        vertical-align: top;\n",
       "    }\n",
       "\n",
       "    .dataframe thead th {\n",
       "        text-align: right;\n",
       "    }\n",
       "</style>\n",
       "<table border=\"1\" class=\"dataframe\">\n",
       "  <thead>\n",
       "    <tr style=\"text-align: right;\">\n",
       "      <th></th>\n",
       "      <th>w0</th>\n",
       "      <th>w1</th>\n",
       "      <th>w2</th>\n",
       "      <th>w3</th>\n",
       "      <th>w4</th>\n",
       "      <th>w5</th>\n",
       "      <th>w6</th>\n",
       "      <th>w7</th>\n",
       "      <th>w8</th>\n",
       "      <th>w9</th>\n",
       "      <th>...</th>\n",
       "      <th>w1991</th>\n",
       "      <th>w1992</th>\n",
       "      <th>w1993</th>\n",
       "      <th>w1994</th>\n",
       "      <th>w1995</th>\n",
       "      <th>w1996</th>\n",
       "      <th>w1997</th>\n",
       "      <th>w1998</th>\n",
       "      <th>w1999</th>\n",
       "      <th>Type</th>\n",
       "    </tr>\n",
       "  </thead>\n",
       "  <tbody>\n",
       "    <tr>\n",
       "      <th>0</th>\n",
       "      <td>0</td>\n",
       "      <td>0</td>\n",
       "      <td>0</td>\n",
       "      <td>0</td>\n",
       "      <td>0</td>\n",
       "      <td>0</td>\n",
       "      <td>0</td>\n",
       "      <td>0</td>\n",
       "      <td>0</td>\n",
       "      <td>0</td>\n",
       "      <td>...</td>\n",
       "      <td>0</td>\n",
       "      <td>0</td>\n",
       "      <td>0</td>\n",
       "      <td>0</td>\n",
       "      <td>0</td>\n",
       "      <td>0</td>\n",
       "      <td>0</td>\n",
       "      <td>0</td>\n",
       "      <td>0</td>\n",
       "      <td>1</td>\n",
       "    </tr>\n",
       "    <tr>\n",
       "      <th>1</th>\n",
       "      <td>1</td>\n",
       "      <td>0</td>\n",
       "      <td>0</td>\n",
       "      <td>0</td>\n",
       "      <td>0</td>\n",
       "      <td>0</td>\n",
       "      <td>0</td>\n",
       "      <td>0</td>\n",
       "      <td>0</td>\n",
       "      <td>0</td>\n",
       "      <td>...</td>\n",
       "      <td>0</td>\n",
       "      <td>0</td>\n",
       "      <td>0</td>\n",
       "      <td>0</td>\n",
       "      <td>0</td>\n",
       "      <td>0</td>\n",
       "      <td>0</td>\n",
       "      <td>0</td>\n",
       "      <td>1</td>\n",
       "      <td>1</td>\n",
       "    </tr>\n",
       "    <tr>\n",
       "      <th>2</th>\n",
       "      <td>1</td>\n",
       "      <td>0</td>\n",
       "      <td>0</td>\n",
       "      <td>0</td>\n",
       "      <td>0</td>\n",
       "      <td>0</td>\n",
       "      <td>0</td>\n",
       "      <td>0</td>\n",
       "      <td>0</td>\n",
       "      <td>0</td>\n",
       "      <td>...</td>\n",
       "      <td>0</td>\n",
       "      <td>0</td>\n",
       "      <td>0</td>\n",
       "      <td>0</td>\n",
       "      <td>0</td>\n",
       "      <td>0</td>\n",
       "      <td>0</td>\n",
       "      <td>0</td>\n",
       "      <td>0</td>\n",
       "      <td>1</td>\n",
       "    </tr>\n",
       "    <tr>\n",
       "      <th>3</th>\n",
       "      <td>0</td>\n",
       "      <td>0</td>\n",
       "      <td>0</td>\n",
       "      <td>0</td>\n",
       "      <td>0</td>\n",
       "      <td>0</td>\n",
       "      <td>0</td>\n",
       "      <td>0</td>\n",
       "      <td>0</td>\n",
       "      <td>0</td>\n",
       "      <td>...</td>\n",
       "      <td>0</td>\n",
       "      <td>1</td>\n",
       "      <td>0</td>\n",
       "      <td>0</td>\n",
       "      <td>0</td>\n",
       "      <td>0</td>\n",
       "      <td>0</td>\n",
       "      <td>0</td>\n",
       "      <td>0</td>\n",
       "      <td>1</td>\n",
       "    </tr>\n",
       "    <tr>\n",
       "      <th>4</th>\n",
       "      <td>1</td>\n",
       "      <td>0</td>\n",
       "      <td>0</td>\n",
       "      <td>0</td>\n",
       "      <td>0</td>\n",
       "      <td>0</td>\n",
       "      <td>0</td>\n",
       "      <td>0</td>\n",
       "      <td>0</td>\n",
       "      <td>0</td>\n",
       "      <td>...</td>\n",
       "      <td>0</td>\n",
       "      <td>0</td>\n",
       "      <td>0</td>\n",
       "      <td>0</td>\n",
       "      <td>0</td>\n",
       "      <td>0</td>\n",
       "      <td>0</td>\n",
       "      <td>0</td>\n",
       "      <td>0</td>\n",
       "      <td>1</td>\n",
       "    </tr>\n",
       "    <tr>\n",
       "      <th>...</th>\n",
       "      <td>...</td>\n",
       "      <td>...</td>\n",
       "      <td>...</td>\n",
       "      <td>...</td>\n",
       "      <td>...</td>\n",
       "      <td>...</td>\n",
       "      <td>...</td>\n",
       "      <td>...</td>\n",
       "      <td>...</td>\n",
       "      <td>...</td>\n",
       "      <td>...</td>\n",
       "      <td>...</td>\n",
       "      <td>...</td>\n",
       "      <td>...</td>\n",
       "      <td>...</td>\n",
       "      <td>...</td>\n",
       "      <td>...</td>\n",
       "      <td>...</td>\n",
       "      <td>...</td>\n",
       "      <td>...</td>\n",
       "      <td>...</td>\n",
       "    </tr>\n",
       "    <tr>\n",
       "      <th>5167</th>\n",
       "      <td>0</td>\n",
       "      <td>0</td>\n",
       "      <td>0</td>\n",
       "      <td>0</td>\n",
       "      <td>0</td>\n",
       "      <td>0</td>\n",
       "      <td>0</td>\n",
       "      <td>0</td>\n",
       "      <td>4</td>\n",
       "      <td>0</td>\n",
       "      <td>...</td>\n",
       "      <td>0</td>\n",
       "      <td>0</td>\n",
       "      <td>0</td>\n",
       "      <td>0</td>\n",
       "      <td>0</td>\n",
       "      <td>0</td>\n",
       "      <td>0</td>\n",
       "      <td>0</td>\n",
       "      <td>0</td>\n",
       "      <td>0</td>\n",
       "    </tr>\n",
       "    <tr>\n",
       "      <th>5168</th>\n",
       "      <td>0</td>\n",
       "      <td>0</td>\n",
       "      <td>0</td>\n",
       "      <td>0</td>\n",
       "      <td>3</td>\n",
       "      <td>4</td>\n",
       "      <td>0</td>\n",
       "      <td>0</td>\n",
       "      <td>0</td>\n",
       "      <td>0</td>\n",
       "      <td>...</td>\n",
       "      <td>0</td>\n",
       "      <td>0</td>\n",
       "      <td>0</td>\n",
       "      <td>0</td>\n",
       "      <td>0</td>\n",
       "      <td>0</td>\n",
       "      <td>0</td>\n",
       "      <td>0</td>\n",
       "      <td>0</td>\n",
       "      <td>0</td>\n",
       "    </tr>\n",
       "    <tr>\n",
       "      <th>5169</th>\n",
       "      <td>0</td>\n",
       "      <td>0</td>\n",
       "      <td>0</td>\n",
       "      <td>0</td>\n",
       "      <td>1</td>\n",
       "      <td>0</td>\n",
       "      <td>0</td>\n",
       "      <td>0</td>\n",
       "      <td>1</td>\n",
       "      <td>0</td>\n",
       "      <td>...</td>\n",
       "      <td>0</td>\n",
       "      <td>0</td>\n",
       "      <td>0</td>\n",
       "      <td>0</td>\n",
       "      <td>0</td>\n",
       "      <td>0</td>\n",
       "      <td>0</td>\n",
       "      <td>0</td>\n",
       "      <td>0</td>\n",
       "      <td>0</td>\n",
       "    </tr>\n",
       "    <tr>\n",
       "      <th>5170</th>\n",
       "      <td>0</td>\n",
       "      <td>0</td>\n",
       "      <td>0</td>\n",
       "      <td>0</td>\n",
       "      <td>0</td>\n",
       "      <td>0</td>\n",
       "      <td>0</td>\n",
       "      <td>0</td>\n",
       "      <td>0</td>\n",
       "      <td>0</td>\n",
       "      <td>...</td>\n",
       "      <td>0</td>\n",
       "      <td>0</td>\n",
       "      <td>0</td>\n",
       "      <td>0</td>\n",
       "      <td>0</td>\n",
       "      <td>0</td>\n",
       "      <td>0</td>\n",
       "      <td>0</td>\n",
       "      <td>0</td>\n",
       "      <td>0</td>\n",
       "    </tr>\n",
       "    <tr>\n",
       "      <th>5171</th>\n",
       "      <td>0</td>\n",
       "      <td>0</td>\n",
       "      <td>0</td>\n",
       "      <td>0</td>\n",
       "      <td>4</td>\n",
       "      <td>0</td>\n",
       "      <td>0</td>\n",
       "      <td>0</td>\n",
       "      <td>4</td>\n",
       "      <td>0</td>\n",
       "      <td>...</td>\n",
       "      <td>0</td>\n",
       "      <td>0</td>\n",
       "      <td>0</td>\n",
       "      <td>0</td>\n",
       "      <td>0</td>\n",
       "      <td>0</td>\n",
       "      <td>0</td>\n",
       "      <td>0</td>\n",
       "      <td>0</td>\n",
       "      <td>0</td>\n",
       "    </tr>\n",
       "  </tbody>\n",
       "</table>\n",
       "<p>5172 rows × 2001 columns</p>\n",
       "</div>"
      ],
      "text/plain": [
       "     w0 w1 w2 w3 w4 w5 w6 w7 w8 w9  ... w1991 w1992 w1993 w1994 w1995 w1996  \\\n",
       "0     0  0  0  0  0  0  0  0  0  0  ...     0     0     0     0     0     0   \n",
       "1     1  0  0  0  0  0  0  0  0  0  ...     0     0     0     0     0     0   \n",
       "2     1  0  0  0  0  0  0  0  0  0  ...     0     0     0     0     0     0   \n",
       "3     0  0  0  0  0  0  0  0  0  0  ...     0     1     0     0     0     0   \n",
       "4     1  0  0  0  0  0  0  0  0  0  ...     0     0     0     0     0     0   \n",
       "...  .. .. .. .. .. .. .. .. .. ..  ...   ...   ...   ...   ...   ...   ...   \n",
       "5167  0  0  0  0  0  0  0  0  4  0  ...     0     0     0     0     0     0   \n",
       "5168  0  0  0  0  3  4  0  0  0  0  ...     0     0     0     0     0     0   \n",
       "5169  0  0  0  0  1  0  0  0  1  0  ...     0     0     0     0     0     0   \n",
       "5170  0  0  0  0  0  0  0  0  0  0  ...     0     0     0     0     0     0   \n",
       "5171  0  0  0  0  4  0  0  0  4  0  ...     0     0     0     0     0     0   \n",
       "\n",
       "     w1997 w1998 w1999 Type  \n",
       "0        0     0     0    1  \n",
       "1        0     0     1    1  \n",
       "2        0     0     0    1  \n",
       "3        0     0     0    1  \n",
       "4        0     0     0    1  \n",
       "...    ...   ...   ...  ...  \n",
       "5167     0     0     0    0  \n",
       "5168     0     0     0    0  \n",
       "5169     0     0     0    0  \n",
       "5170     0     0     0    0  \n",
       "5171     0     0     0    0  \n",
       "\n",
       "[5172 rows x 2001 columns]"
      ]
     },
     "execution_count": 3,
     "metadata": {},
     "output_type": "execute_result"
    }
   ],
   "source": [
    "header=['w'+str(i) for i in range(len(data[0])-1)] + ['Type']\n",
    "df = pd.DataFrame(data, columns=header)\n",
    "df"
   ]
  },
  {
   "cell_type": "code",
   "execution_count": 4,
   "id": "706ecbb6-7d05-4616-aaff-b8ebad85fd7e",
   "metadata": {},
   "outputs": [
    {
     "name": "stdout",
     "output_type": "stream",
     "text": [
      "<class 'pandas.core.frame.DataFrame'>\n",
      "RangeIndex: 5172 entries, 0 to 5171\n",
      "Columns: 2001 entries, w0 to Type\n",
      "dtypes: object(2001)\n",
      "memory usage: 79.0+ MB\n"
     ]
    }
   ],
   "source": [
    "df.info()"
   ]
  },
  {
   "cell_type": "markdown",
   "id": "eae8f47d-c006-4beb-8779-03a3402baccf",
   "metadata": {},
   "source": [
    "### 2.1 Reporta el porcentaje de correos que están etiquetados como spam y como no spam en el conjunto de datos"
   ]
  },
  {
   "cell_type": "code",
   "execution_count": 5,
   "id": "75509303-6dab-4fc1-bc88-5f0d9e99e556",
   "metadata": {},
   "outputs": [
    {
     "data": {
      "text/plain": [
       "Type\n",
       "0    3672\n",
       "1    1500\n",
       "Name: w0, dtype: int64"
      ]
     },
     "execution_count": 5,
     "metadata": {},
     "output_type": "execute_result"
    }
   ],
   "source": [
    "df.groupby('Type').count().iloc[:,0]"
   ]
  },
  {
   "cell_type": "code",
   "execution_count": 6,
   "id": "fe17eade-ef33-438c-994c-bbfe0c21272a",
   "metadata": {},
   "outputs": [
    {
     "data": {
      "image/png": "[encoded data removed]",
      "text/plain": [
       "<Figure size 432x288 with 1 Axes>"
      ]
     },
     "metadata": {},
     "output_type": "display_data"
    }
   ],
   "source": [
    "plt.pie(df.groupby('Type').count().iloc[:,0],labels=['Legitimate','Spam'], autopct='%1.1f%%')\n",
    "plt.show()"
   ]
  },
  {
   "cell_type": "markdown",
   "id": "4b36522e-f4fe-4d37-aab8-1398c0cebfb6",
   "metadata": {},
   "source": [
    "### 2.2 Divide aleatoriamente el conjunto de datos en el 60 % para entrenamiento, el 20 % para validación y el 20 % restante para prueba usando 0 como semilla para tu generador de números aleatorios."
   ]
  },
  {
   "cell_type": "code",
   "execution_count": 7,
   "id": "91f4d1a8-79d3-44f4-9ba3-b62db3650a90",
   "metadata": {},
   "outputs": [
    {
     "data": {
      "text/plain": [
       "array([[0., 0., 0., ..., 0., 0., 1.],\n",
       "       [1., 0., 0., ..., 0., 1., 1.],\n",
       "       [1., 0., 0., ..., 0., 0., 1.],\n",
       "       ...,\n",
       "       [0., 0., 0., ..., 0., 0., 0.],\n",
       "       [0., 0., 0., ..., 0., 0., 0.],\n",
       "       [0., 0., 0., ..., 0., 0., 0.]])"
      ]
     },
     "execution_count": 7,
     "metadata": {},
     "output_type": "execute_result"
    }
   ],
   "source": [
    "data = df.to_numpy(dtype=float)\n",
    "data"
   ]
  },
  {
   "cell_type": "code",
   "execution_count": 8,
   "id": "11949cad-8ebf-4a77-8d7e-4542a10bf873",
   "metadata": {},
   "outputs": [],
   "source": [
    "x = data[:,:-1]\n",
    "y = data[:,-1]\n",
    "x_ent, x, y_ent, y = train_test_split(x,y,train_size=0.60, random_state=0)\n",
    "x_val, x_pru, y_val, y_pru = train_test_split(x,y,train_size=0.50, random_state=0)"
   ]
  },
  {
   "cell_type": "code",
   "execution_count": 9,
   "id": "0b5fea10-de6a-4914-83f0-5ed3249fbfd7",
   "metadata": {},
   "outputs": [
    {
     "data": {
      "text/plain": [
       "'Longitud de x_ent=3103, x_val=1034, x_pru=1035'"
      ]
     },
     "execution_count": 9,
     "metadata": {},
     "output_type": "execute_result"
    }
   ],
   "source": [
    "\"Longitud de x_ent={}, x_val={}, x_pru={}\".format(len(x_ent),len(x_val),len(x_pru))"
   ]
  },
  {
   "cell_type": "markdown",
   "id": "63cb84f0-ddea-48c2-a90a-a274ac5a41c0",
   "metadata": {},
   "source": [
    "### 2.3 Entrena 2 clasificadores bayesianos ingenuos con distintas distribuciones"
   ]
  },
  {
   "cell_type": "markdown",
   "id": "fd2d12fe-52d0-4f6c-9cfe-5ce775830b5b",
   "metadata": {},
   "source": [
    "Supongamos que tenemos el siguiente arreglo de entrenamiento:\n",
    "\n",
    "$$ \\displaystyle \\mathbf{X} \\ =\\begin{bmatrix}\n",
    "\\mathbf{x_{0}}\\\\\n",
    "\\mathbf{x_{1}}\\\\\n",
    ".\\\\\n",
    ".\\\\\n",
    ".\\\\\n",
    "\\mathbf{x}_{n}\n",
    "\\end{bmatrix} =\\ \\begin{bmatrix}\n",
    "w_{0,0} & . & . & . & w_{0,m}\\\\\n",
    ". & . &  &  & .\\\\\n",
    ". &  & . &  & .\\\\\n",
    ". &  &  & . & .\\\\\n",
    "w_{n,0} & . & . & . & w_{n,m}\n",
    "\\end{bmatrix} \\ $$ \n",
    "\n",
    "En donde cada vector $\\mathbf{x_{i}}=[w_{i,0},...,w_{i,m}]$ contiene los atributos $w_{i,j}$ categóricos, en este caso binarios"
   ]
  },
  {
   "cell_type": "markdown",
   "id": "dedf59c8-e447-4750-a137-17102c6c32ef",
   "metadata": {},
   "source": [
    "Dados los atributos $\\mathbf{x_{i}}$ se tienen las siguientes clases:\n",
    "$$\\displaystyle \\mathbf{Y} =\\ \\begin{bmatrix}\n",
    "c_{0}\\\\\n",
    ".\\\\\n",
    ".\\\\\n",
    ".\\\\\n",
    "c_{n}\n",
    "\\end{bmatrix}$$\n",
    "\n",
    "con $c_i$ variable categórica."
   ]
  },
  {
   "cell_type": "markdown",
   "id": "61586c85-2b12-4b01-9aed-4c09b420d41b",
   "metadata": {},
   "source": [
    "#### Estimación de a priori\n",
    "\n",
    "Asumimos que la clases se distribuyen como una Bernoulli quedando expresadas por:\n",
    "\n",
    "$$ P(C) = q^C(1-q)^{1-C} $$\n",
    "\n",
    "donde la estimación del parámetro $\\hat{q}_C$ se reduce al conteo de frecuencia de la clase en los datos:\n",
    "\n",
    "$$ \\hat{q}_C = \\frac{N_C}{N}$$"
   ]
  },
  {
   "cell_type": "markdown",
   "id": "f069759e-721e-428b-a73f-384b9e1f6818",
   "metadata": {},
   "source": [
    "#### 2.3.1 Calsificador bayesiano ingenuo de Bernoulli"
   ]
  },
  {
   "cell_type": "markdown",
   "id": "d50f7283-dbe5-4aea-b6f6-28e88df13114",
   "metadata": {},
   "source": [
    "#### Estimación de verosimilitudes"
   ]
  },
  {
   "cell_type": "markdown",
   "id": "b0d2f248-d321-40be-93fc-6a7892278eaf",
   "metadata": {},
   "source": [
    "Para la estimación de parámetros $\\hat{q}_{i,c}$ para cada clase $c$ tenemos:\n",
    "    \n",
    "$$\\hat{q}_{w_j,c} =\\ \\frac{\\sum _{i}[ \\ w_{i,j} \\ \\neq 0\\ ]}{n_{c}}$$\n",
    "\n",
    "en donde $\\sum _{i}[ \\ w_{i,j} \\ \\neq 0\\ ]$ es la suma de los atributos de la $j$-ésima columna diferentes a cero y $n_c$ el número de vectores $\\mathbf{x_{i}}$ que pertenecen a la clase $c$."
   ]
  },
  {
   "cell_type": "markdown",
   "id": "b361e51e-ba7b-443a-afc6-fc7b26b115b3",
   "metadata": {},
   "source": [
    "En cuanto a los parámetros de las clases tenemos:\n",
    "$$\\displaystyle \\hat{q}_{c} =\\ \\frac{n_{c}}{n}$$"
   ]
  },
  {
   "cell_type": "markdown",
   "id": "1ed8f1a4-d196-42d7-9a2e-cb6ad8a8ade2",
   "metadata": {},
   "source": [
    "#### Clasificación de nuevos documentos\n",
    "\n",
    "$$ P(\\mathbf{x_{i}} | C ) =  \\prod_{j } \\hat{q}_{w_j,c}^{C}(1-\\hat{q}_{w_j,c})^{1-C} P(C)$$\n",
    "\n",
    "Calculando el logaritmo\n",
    "\n",
    "\n",
    "$$ log( P(\\mathbf{x_{i}} | C )) =  \\sum_{j } C log(\\hat{q}_{w_j,c}) + \\sum_{j }(1-C)log((1-\\hat{q}_{w_j,c})) + log(P(C))$$\n",
    "\n",
    "La clase más probable es:\n",
    "\n",
    "$$C = \\operatorname*{max} \\bigg\\{ log( P(\\mathbf{x_{i}} | C=0 )), log( P(\\mathbf{x_{i}} | C=1 ))  \\bigg\\} $$\n"
   ]
  },
  {
   "cell_type": "markdown",
   "id": "8fe7f629-9fdb-4f64-adf4-b3f9840d3433",
   "metadata": {},
   "source": [
    "#### Calculo de probabilidad "
   ]
  },
  {
   "cell_type": "code",
   "execution_count": 10,
   "id": "5a1dac5e-39dc-45a2-8a13-b07e09ed06ed",
   "metadata": {},
   "outputs": [],
   "source": [
    "class BernoulliNBLog:\n",
    "    def fit(self, X, y):\n",
    "        \"\"\"\n",
    "        Estima parámetros por máxima verosimilitud\n",
    "        \"\"\"\n",
    "        self.clases = np.unique(y)  # Nombre de las clases\n",
    "        self.n_clases = self.clases.size # Número de clases\n",
    "        self.n_atr = X.shape[-1] # Número de atributos (m)\n",
    "        self.qa = np.zeros((self.n_clases, self.n_atr)) # Estimación de cada parametro para cada clase\n",
    "        self.qc = np.zeros((self.n_clases)) # Estimación de cada clase \n",
    "\n",
    "        n = X.shape[0] # Número total de vectores de entrenamiento (n)\n",
    "        for i,c in enumerate(self.clases):\n",
    "            Xc = X[np.where(y == c)] #Atributos x_i que solo son de la clase c\n",
    "            nc = Xc.shape[0] # Numero de x_i de la clase c\n",
    "            self.qc[i] = nc / n # parametro para la clase\n",
    "            cuentas = np.count_nonzero(Xc, axis = 0) #Suma de si el atributo aparece al menos una vez en cada x_i\n",
    "            self.qa[i, :] =cuentas / nc #Parametro para atributos\n",
    "\n",
    "    def predict_proba(self, x):\n",
    "        \"\"\"\n",
    "        Calcula a posteriori de conjunto de datos\n",
    "        \"\"\"\n",
    "        prop = np.zeros((x.shape[0], self.n_clases)) #Para cada vector atributo x' (nuevo), y para cada clase \n",
    "        for i in range(self.n_clases):\n",
    "            a0log = np.nan_to_num((1 - x) @ np.nan_to_num(np.log(1 - self.qa[i, :])))\n",
    "            a1log = np.nan_to_num(x @ np.nan_to_num(np.log(self.qa[i, :])))\n",
    "            prop[:, i] = a0log + a1log + np.log(self.qc[i])\n",
    "\n",
    "        return prop\n",
    "\n",
    "    def predict(self, x):\n",
    "        \"\"\"\n",
    "        Predice clase de conjunto de datos\n",
    "        \"\"\"\n",
    "        return np.argmax(self.predict_proba(x), axis=1) #Obtener el maximo de cada vector de atributos\n",
    "\n",
    "    def score(self, X, y):\n",
    "        \"\"\"\n",
    "        Calcula predicciones correctas y erroneas\n",
    "        \"\"\"\n",
    "        preds = self.predict(X)\n",
    "        correc = np.sum(preds == y)\n",
    "        return [correc, len(y)-correc]"
   ]
  },
  {
   "cell_type": "code",
   "execution_count": 11,
   "id": "ab3c3785-9512-4e1c-98ba-15b273f50e3d",
   "metadata": {},
   "outputs": [],
   "source": [
    "bnbl = BernoulliNBLog()\n",
    "bnbl.fit(x_ent, y_ent)"
   ]
  },
  {
   "cell_type": "markdown",
   "id": "eede61df-24d1-404e-b005-3dc30b1c9f3d",
   "metadata": {},
   "source": [
    "#### 2.3.2 Calsificador bayesiano ingenuo multinomial"
   ]
  },
  {
   "cell_type": "markdown",
   "id": "318aefd9-eb87-4dda-a5c2-99b9dc8541af",
   "metadata": {},
   "source": [
    "Asumimos que los atributos de distribuyen como multinomiales:\n",
    "\n",
    "$$ P(x|C) = \\frac{n !}{\\prod_{t=1}^{|V|} x_{t}!} \\prod_{t=1}^{|V|} q(w_{t}|C)^{x_t} $$\n",
    "\n",
    "Podemos ignorar el termino de normalización:\n",
    "\n",
    "$$ P(x|C) \\propto \\prod_{t=1}^{|V|} q(w_{t}|C)^{x_t} $$\n",
    "\n",
    "El estimado de cada parámetro es la frecuencia de la palabra en la clase:\n",
    "\n",
    "$$\\hat{q}(w_{t}|C) = \\frac{n_C(w_t)}{\\sum_{w}^{} n_C(w_t)}$$"
   ]
  },
  {
   "cell_type": "markdown",
   "id": "643b9335-9197-4d7d-b905-795d54ce8b9a",
   "metadata": {},
   "source": [
    "#### Clasificación de nuevos documentos\n",
    "\n",
    "$$ P(\\mathbf{x_{i}}|C) = \\prod_{t=1}^{|V|} q(w_{t}|C)^{x_t} P (C)$$\n",
    "\n",
    "\n",
    "Calculando el logaritmo\n",
    "\n",
    "\n",
    "$$ log( P(\\mathbf{x_{i}} | C )) =  \\sum_{t} x_t log(q(w_{t}|C)) + log(P(C))$$\n",
    "\n",
    "La clase más probable es:\n",
    "\n",
    "$$C = \\operatorname*{max} \\bigg\\{ log( P(\\mathbf{x_{i}} | C=0 )), log( P(\\mathbf{x_{i}} | C=1 ))  \\bigg\\} $$\n"
   ]
  },
  {
   "cell_type": "code",
   "execution_count": 12,
   "id": "a7e1f8d6-b4d0-4137-b73a-7e10b0541a9d",
   "metadata": {},
   "outputs": [],
   "source": [
    "class MultinomialNBLog_Bernoulli:\n",
    "    def fit(self, X, y):\n",
    "        \"\"\"\n",
    "        Estima parámetros por máxima verosimilitud\n",
    "        \"\"\"\n",
    "        self.clases = np.unique(y)  # Nombre de las clases\n",
    "        self.n_clases = self.clases.size # Número de clases\n",
    "        self.n_atr = X.shape[-1] # Número de atributos (m)\n",
    "        self.qa = np.zeros((self.n_clases, self.n_atr)) # Estimación de cada parametro para cada clase\n",
    "        self.qc = np.zeros((self.n_clases)) # Estimación de cada clase \n",
    "\n",
    "        n = X.shape[0] # Número total de vectores de entrenamiento (n)\n",
    "        for i,c in enumerate(self.clases):\n",
    "            Xc = X[np.where(y == c)] #Atributos x_i que solo son de la clase c\n",
    "            nc = Xc.shape[0] # Numero de x_i de la clase c\n",
    "            self.qc[i] = nc / n # parametro para la clase\n",
    "            frecuencias = np.sum(Xc, axis = 0) #Frecuencia de cada atributo\n",
    "            self.qa[i, :] = frecuencias / frecuencias.sum() #Parametro para atributos\n",
    "        \n",
    "        \n",
    "    def predict_proba(self, x):\n",
    "        \"\"\"\n",
    "        Calcula a posteriori de conjunto de datos\n",
    "        \"\"\"\n",
    "        prop = np.zeros((x.shape[0], self.n_clases)) #Para cada vector atributo x' (nuevo), y para cada clase \n",
    "        for i in range(self.n_clases):\n",
    "            a1log = x @ np.nan_to_num(np.log(self.qa[i, :]))\n",
    "            prop[:, i] = a1log + np.log(self.qc[i])\n",
    "\n",
    "        return prop\n",
    "\n",
    "    def predict(self, x):\n",
    "        \"\"\"\n",
    "        Predice clase de conjunto de datos\n",
    "        \"\"\"\n",
    "        return np.argmax(self.predict_proba(x), axis=1) #Obtener el maximo de cada vector de atributos\n",
    "    \n",
    "    def score(self, X, y):\n",
    "        \"\"\"\n",
    "        Calcula predicciones correctas y erroneas\n",
    "        \"\"\"\n",
    "        preds = self.predict(X)\n",
    "        correc = np.sum(preds == y)\n",
    "        return [correc, len(y)-correc]"
   ]
  },
  {
   "cell_type": "code",
   "execution_count": 13,
   "id": "9d6f3cb4-bd9f-45ad-b0a8-bb8b4e0dee59",
   "metadata": {},
   "outputs": [],
   "source": [
    "mnlb = MultinomialNBLog_Bernoulli()\n",
    "mnlb.fit(x_ent, y_ent)"
   ]
  },
  {
   "cell_type": "markdown",
   "id": "bd62fb85-372f-4c4a-8655-f624a70307eb",
   "metadata": {},
   "source": [
    "### 2.4 Emplea los clasificadores entrenados para predecir spam tanto en los datos de entrenamiento como en los de validación y reporta el porcentaje de predicciones correctas de cada clasificador."
   ]
  },
  {
   "cell_type": "code",
   "execution_count": 14,
   "id": "db15f478-f9f2-40dc-ad6a-980a1d63fbc1",
   "metadata": {},
   "outputs": [
    {
     "name": "stderr",
     "output_type": "stream",
     "text": [
      "<ipython-input-10-8a3806bc1e3f>:26: RuntimeWarning: divide by zero encountered in log\n",
      "  a0log = np.nan_to_num((1 - x) @ np.nan_to_num(np.log(1 - self.qa[i, :])))\n",
      "<ipython-input-10-8a3806bc1e3f>:26: RuntimeWarning: overflow encountered in matmul\n",
      "  a0log = np.nan_to_num((1 - x) @ np.nan_to_num(np.log(1 - self.qa[i, :])))\n",
      "<ipython-input-10-8a3806bc1e3f>:27: RuntimeWarning: divide by zero encountered in log\n",
      "  a1log = np.nan_to_num(x @ np.nan_to_num(np.log(self.qa[i, :])))\n",
      "<ipython-input-10-8a3806bc1e3f>:27: RuntimeWarning: overflow encountered in matmul\n",
      "  a1log = np.nan_to_num(x @ np.nan_to_num(np.log(self.qa[i, :])))\n"
     ]
    },
    {
     "data": {
      "image/png": "[encoded data removed]",
      "text/plain": [
       "<Figure size 720x504 with 2 Axes>"
      ]
     },
     "metadata": {},
     "output_type": "display_data"
    },
    {
     "data": {
      "image/png": "[encoded data removed]",
      "text/plain": [
       "<Figure size 720x504 with 2 Axes>"
      ]
     },
     "metadata": {},
     "output_type": "display_data"
    }
   ],
   "source": [
    "fig1, (ax1,ax2) = plt.subplots(1, 2, figsize=(10,7))\n",
    "fig1.suptitle('CBI Bernoullil', fontsize=16,y=0.83)\n",
    "ax1.pie(bnbl.score(x_ent,y_ent),labels=['Correctas','Erroneas'], autopct='%1.1f%%')\n",
    "ax1.set_title('Entrenamiento')\n",
    "ax2.pie(bnbl.score(x_val,y_val),labels=['Correctas','Erroneas'], autopct='%1.1f%%')\n",
    "ax2.set_title('Validación')\n",
    "\n",
    "fig2, (ax1,ax2) = plt.subplots(1, 2, figsize=(10,7))\n",
    "fig2.suptitle('CBI Multinomial', fontsize=16,y=0.83)\n",
    "ax1.pie(mnlb.score(x_ent,y_ent),labels=['Correctas','Erroneas'], autopct='%1.1f%%')\n",
    "ax1.set_title('Entrenamiento')\n",
    "ax2.pie(mnlb.score(x_val,y_val),labels=['Correctas','Erroneas'], autopct='%1.1f%%')\n",
    "ax2.set_title('Validación')\n",
    "\n",
    "plt.show()"
   ]
  },
  {
   "cell_type": "markdown",
   "id": "d547aa45-61a8-437b-b24a-488c915b7564",
   "metadata": {
    "tags": []
   },
   "source": [
    "### 2.5 Discute el desempeño de los diferentes clasificadores\n"
   ]
  },
  {
   "cell_type": "markdown",
   "id": "1f8eb955-87fb-4fa4-9318-c076660c44c9",
   "metadata": {},
   "source": [
    "Se utilizaron dos clasificadores, uno con una distribución de bernoulli y otro con una distribución multinomial en los atributos y bernouolli en las clases. En ambos clasificadores para el cálculo de probabilidades se utilizó el logaritmo, debido al número de instancias.\n",
    "El mejor resultado lo tiene el clasificador multinomial, tanto en el conjunto de entrenamiento como en el de validación. Pues en este clasificador se consideran las frecuencias de cada una de las palabras, en cambio en el clasificador con distribución de bernoulli solo se considera si la palabra está presente o no en el correo. Lo que quiere decir que es significativo la frecuencia con la que se escribe una palabra para poder predecir si un correo es spam o legítimo. "
   ]
  },
  {
   "cell_type": "markdown",
   "id": "e97f8a4a-88f8-498a-8404-a479a496a570",
   "metadata": {},
   "source": [
    "### 2.6 Reporta el porcentaje de predicciones correctas en el subconjunto de prueba para el clasificador con mejor rendimiento en el subconjunto de validación. "
   ]
  },
  {
   "cell_type": "code",
   "execution_count": 15,
   "id": "5c3b4e03-26aa-4d9b-9f18-95cfeb24a33b",
   "metadata": {},
   "outputs": [
    {
     "name": "stderr",
     "output_type": "stream",
     "text": [
      "<ipython-input-12-b8507438de1c>:27: RuntimeWarning: divide by zero encountered in log\n",
      "  a1log = x @ np.nan_to_num(np.log(self.qa[i, :]))\n",
      "<ipython-input-12-b8507438de1c>:27: RuntimeWarning: overflow encountered in matmul\n",
      "  a1log = x @ np.nan_to_num(np.log(self.qa[i, :]))\n"
     ]
    },
    {
     "data": {
      "image/png": "[encoded data removed]",
      "text/plain": [
       "<Figure size 432x288 with 1 Axes>"
      ]
     },
     "metadata": {},
     "output_type": "display_data"
    }
   ],
   "source": [
    "plt.pie(mnlb.score(x_pru,y_pru),labels=['Correctas','Erroneas'], autopct='%1.1f%%')\n",
    "plt.title('Prueba')\n",
    "plt.show()"
   ]
  }
 ],
 "metadata": {
  "kernelspec": {
   "display_name": "Python 3",
   "language": "python",
   "name": "python3"
  },
  "language_info": {
   "codemirror_mode": {
    "name": "ipython",
    "version": 3
   },
   "file_extension": ".py",
   "mimetype": "text/x-python",
   "name": "python",
   "nbconvert_exporter": "python",
   "pygments_lexer": "ipython3",
   "version": "3.9.10"
  }
 },
 "nbformat": 4,
 "nbformat_minor": 5
}
