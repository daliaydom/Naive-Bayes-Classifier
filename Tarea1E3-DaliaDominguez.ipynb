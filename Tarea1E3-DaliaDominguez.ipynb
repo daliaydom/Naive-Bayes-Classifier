{
 "cells": [
  {
   "cell_type": "markdown",
   "id": "35943c4a-d6f1-47b1-83c4-410f07fbbece",
   "metadata": {},
   "source": [
    "# Clasificación de registros de tumores de senos en benignos y malignos a partir de un Clasificador Bayesiano Ingenuo."
   ]
  },
  {
   "cell_type": "markdown",
   "id": "f1bfa65a-a70a-4123-9f99-b305b89e7358",
   "metadata": {},
   "source": [
    "## Importar librerias"
   ]
  },
  {
   "cell_type": "code",
   "execution_count": 1,
   "id": "535102ef-8937-45d2-9256-7e6502a3bc6e",
   "metadata": {},
   "outputs": [],
   "source": [
    "import numpy as np\n",
    "import pandas as pd\n",
    "import matplotlib.pyplot as plt\n",
    "from sklearn.model_selection import train_test_split\n",
    "from sklearn.naive_bayes import GaussianNB"
   ]
  },
  {
   "cell_type": "markdown",
   "id": "594d7ad0-28bc-4958-ab05-9b4e3daff669",
   "metadata": {},
   "source": [
    "## Clasificadores"
   ]
  },
  {
   "cell_type": "markdown",
   "id": "20f151d4-a8d8-4b35-88f1-75775919b212",
   "metadata": {},
   "source": [
    "Entrena distintos clasificadores de tumores de seno y evalúalos tanto con el subconjunto de entrenamiento como con el subconjunto de validación y discute su desempeño. Existen 16 registros en el conjunto de datos con un atributo no especificado. Investiga estrategias para rellenar los datos\n",
    "faltantes, utiliza las que consideres más adecuadas para este problema y discute el impacto en el desempeño del clasificador. Reporta el porcentaje de predicciones correctas en el subconjunto de prueba para el clasificador con mejor rendimiento en el subconjunto de validación.\n"
   ]
  },
  {
   "cell_type": "markdown",
   "id": "9c2cf9b9-27d9-43e6-94a6-76b4e05a676e",
   "metadata": {},
   "source": [
    "### Calsificador bayesiano ingenuo multinomial"
   ]
  },
  {
   "cell_type": "code",
   "execution_count": 2,
   "id": "e342626d-614e-4327-a7f4-593fe7c2cd0f",
   "metadata": {},
   "outputs": [],
   "source": [
    "class MultinomialNBLog_Bernoulli:\n",
    "    def fit(self, X, y):\n",
    "        \"\"\"\n",
    "        Estima parámetros por máxima verosimilitud\n",
    "        \"\"\"\n",
    "        self.clases = np.unique(y)  # Nombre de las clases\n",
    "        self.n_clases = self.clases.size # Número de clases\n",
    "        self.n_atr = X.shape[-1] # Número de atributos (m)\n",
    "        self.qa = np.zeros((self.n_clases, self.n_atr)) # Estimación de cada parametro para cada clase\n",
    "        self.qc = np.zeros((self.n_clases)) # Estimación de cada clase \n",
    "\n",
    "        n = X.shape[0] # Número total de vectores de entrenamiento (n)\n",
    "        for i,c in enumerate(self.clases):\n",
    "            Xc = X[np.where(y == c)] #Atributos x_i que solo son de la clase c\n",
    "            nc = Xc.shape[0] # Numero de x_i de la clase c\n",
    "            self.qc[i] = nc / n # parametro para la clase\n",
    "            frecuencias = np.sum(Xc, axis = 0) #Frecuencia de cada atributo\n",
    "            self.qa[i, :] = frecuencias / frecuencias.sum() #Parametro para atributos\n",
    "        \n",
    "        \n",
    "    def predict_proba(self, x):\n",
    "        \"\"\"\n",
    "        Calcula a posteriori de conjunto de datos\n",
    "        \"\"\"\n",
    "        prop = np.zeros((x.shape[0], self.n_clases)) #Para cada vector atributo x' (nuevo), y para cada clase \n",
    "        for i in range(self.n_clases):\n",
    "            a1log = x @ np.nan_to_num(np.log(self.qa[i, :]))\n",
    "            prop[:, i] = a1log + np.log(self.qc[i])\n",
    "\n",
    "        return prop\n",
    "\n",
    "    def predict(self, x):\n",
    "        \"\"\"\n",
    "        Predice clase de conjunto de datos\n",
    "        \"\"\"\n",
    "        return np.argmax(self.predict_proba(x), axis=1) #Obtener el maximo de cada vector de atributos\n",
    "\n",
    "    def score(self, X, y):\n",
    "        \"\"\"\n",
    "        Calcula predicciones correctas y erroneas\n",
    "        \"\"\"\n",
    "        preds = self.predict(X)\n",
    "        correc = np.sum(preds == y)\n",
    "        return [correc, len(y)-correc]"
   ]
  },
  {
   "cell_type": "markdown",
   "id": "69846a26-b7c5-4d86-a222-f8c1d616617e",
   "metadata": {},
   "source": [
    "### Calsificador bayesiano ingenuo categórico"
   ]
  },
  {
   "cell_type": "code",
   "execution_count": 3,
   "id": "942cd3bb-9b16-4b3c-9c96-eafe5ad7ed67",
   "metadata": {
    "tags": []
   },
   "outputs": [],
   "source": [
    "def categorical(c, q):\n",
    "    \"\"\"\n",
    "    Distribución categórica\n",
    "    \"\"\"\n",
    "    return q[int(c)]"
   ]
  },
  {
   "cell_type": "code",
   "execution_count": 4,
   "id": "db3c04f9-d4d8-41e9-abfb-f9d7c0e1e383",
   "metadata": {},
   "outputs": [],
   "source": [
    "class CategoricalNB:\n",
    "    \"Clasificador bayesiano ingenuo binario con características categóricas\"\n",
    "    \n",
    "    def fit(self, X, y):\n",
    "        \"\"\"\n",
    "        Entrena clasificador bayesiano ingenuo\n",
    "        \"\"\"\n",
    "        # Calcula parámetros de distribución a priori (categórica)\n",
    "        n = X.shape[0] \n",
    "        self.clases = np.unique(y)\n",
    "        self.n_clases = self.clases.size\n",
    "        self.qc = np.zeros(self.clases.size)\n",
    "        for i,c in enumerate(self.clases):\n",
    "            self.qc[i] = (np.sum(y == c)) / (self.n_clases)\n",
    "\n",
    "        # Escala logarítmica para parámetros de a priori\n",
    "        self.qc[self.qc == 0] = np.nextafter(0, 1)\n",
    "        self.qc[self.qc == 1] = np.nextafter(1, 0)\n",
    "        self.qc = np.log(self.qc)\n",
    "\n",
    "        # Calcula parámetros de verosimilitud (categórica)\n",
    "        self.n_atrib = X.shape[1]\n",
    "\n",
    "        # Presupone mismas categorías en los dos atributos (mismos posibles jugadores)\n",
    "        self.n_cat = int(np.max(X)) + 1\n",
    "        self.qa = np.zeros((self.n_clases, self.n_atrib, self.n_cat))\n",
    "\n",
    "        # Estima parámetros para cada clase, atributo y categoría (máximo a posteriori)\n",
    "        for c in self.clases:\n",
    "            for i in range(self.n_atrib):\n",
    "                X_ci = X[np.where(y == c), i]\n",
    "                for j in range(self.n_cat): \n",
    "                  # Misma alfa para todas las categoría\n",
    "                    self.qa[c, i, j] = np.sum(X_ci == j) / X_ci.shape[0]\n",
    "        # Usa escala logarítmica para parámetros de verosimilitud\n",
    "        self.qa[self.qa == 0] = np.nextafter(0, 1)\n",
    "        self.qa[self.qa == 1] = np.nextafter(1, 0)\n",
    "        self.qa = np.log(self.qa)\n",
    "        \n",
    "    def prob_clase_(self):\n",
    "        \"\"\"\n",
    "        Calcula probabilidad de la clase\n",
    "        \"\"\"\n",
    "        return self.qc\n",
    "\n",
    "    def prob_cond_clase_(self, X):\n",
    "        \"\"\"\n",
    "        Calcula probabilidad de atributo dada la clase\n",
    "        \"\"\"\n",
    "        v = np.zeros((X.shape[0], self.clases.size))\n",
    "        for k in range(X.shape[0]):\n",
    "            for i in range(self.clases.size):\n",
    "                for j in range(self.n_atrib):\n",
    "                    v[k, i] = v[k, i] + categorical(X[k, j], self.qa[i, j, :])\n",
    "\n",
    "        return v\n",
    "    \n",
    "\n",
    "    def predict(self, X):\n",
    "        \"\"\"\n",
    "        Predice clases dada un conjunto de datos\n",
    "        \"\"\"\n",
    "        aposteriori = self.prob_clase_() + self.prob_cond_clase_(X)\n",
    "        return np.argmax(aposteriori, axis = 1), np.max(aposteriori, axis = 1)\n",
    "\n",
    "    def score(self, X, y):\n",
    "        \"\"\"\n",
    "        Calcula predicciones correctas y erroneas\n",
    "        \"\"\"\n",
    "        preds = self.predict(X)\n",
    "        correc = np.sum(preds == y)\n",
    "        return [correc, len(y)-correc]"
   ]
  },
  {
   "cell_type": "markdown",
   "id": "ed590c0f-9baa-4df5-bad6-1a9a6967a748",
   "metadata": {},
   "source": [
    "## Lectura de datos "
   ]
  },
  {
   "cell_type": "markdown",
   "id": "129b8eff-b21f-47fb-928b-c25a8e03012c",
   "metadata": {},
   "source": [
    "El conjunto de datos contiene 699 registros de tumores de seno, de los cuales 458 son benignos y 241 son malignos. En donde la clase es 2 para benigno y 4 para maligno."
   ]
  },
  {
   "cell_type": "code",
   "execution_count": 5,
   "id": "c7e08d36-91b0-44e6-93d9-93730309cf10",
   "metadata": {},
   "outputs": [
    {
     "name": "stdout",
     "output_type": "stream",
     "text": [
      "<class 'pandas.core.frame.DataFrame'>\n",
      "RangeIndex: 698 entries, 0 to 697\n",
      "Data columns (total 11 columns):\n",
      " #   Column                   Non-Null Count  Dtype \n",
      "---  ------                   --------------  ----- \n",
      " 0   Código de la muestra     698 non-null    int64 \n",
      " 1   Grosor del tumor         698 non-null    int64 \n",
      " 2   Uniformidad del tamño    698 non-null    int64 \n",
      " 3   Uniformidad de la forma  698 non-null    int64 \n",
      " 4   Adhesión marginal        698 non-null    int64 \n",
      " 5   Tamaño                   698 non-null    int64 \n",
      " 6   Núcleos desnudos         698 non-null    object\n",
      " 7   Cromatina blanda         698 non-null    int64 \n",
      " 8   Nucléolos normales       698 non-null    int64 \n",
      " 9   Mitosis de células       698 non-null    int64 \n",
      " 10  Clase                    698 non-null    int64 \n",
      "dtypes: int64(10), object(1)\n",
      "memory usage: 60.1+ KB\n"
     ]
    }
   ],
   "source": [
    "df = pd.read_csv('breast-cancer-wisconsin.data')\n",
    "df.columns= ['Código de la muestra',\n",
    "          'Grosor del tumor',\n",
    "          'Uniformidad del tamño',\n",
    "          'Uniformidad de la forma',\n",
    "          'Adhesión marginal',\n",
    "          'Tamaño',\n",
    "          'Núcleos desnudos',\n",
    "          'Cromatina blanda',\n",
    "          'Nucléolos normales',\n",
    "          'Mitosis de células',\n",
    "          'Clase']\n",
    "df.info()"
   ]
  },
  {
   "cell_type": "markdown",
   "id": "54942717-bf89-47e9-941d-49bcf25c4e4b",
   "metadata": {},
   "source": [
    "Cambiamos las variables de clases por variables binarias 0 para benigno (antes 2) y 1 para maligno (antes 4)."
   ]
  },
  {
   "cell_type": "code",
   "execution_count": 6,
   "id": "bf999708-2a57-4bfe-8057-c4cb635258ae",
   "metadata": {},
   "outputs": [
    {
     "data": {
      "text/html": [
       "<div>\n",
       "<style scoped>\n",
       "    .dataframe tbody tr th:only-of-type {\n",
       "        vertical-align: middle;\n",
       "    }\n",
       "\n",
       "    .dataframe tbody tr th {\n",
       "        vertical-align: top;\n",
       "    }\n",
       "\n",
       "    .dataframe thead th {\n",
       "        text-align: right;\n",
       "    }\n",
       "</style>\n",
       "<table border=\"1\" class=\"dataframe\">\n",
       "  <thead>\n",
       "    <tr style=\"text-align: right;\">\n",
       "      <th></th>\n",
       "      <th>Código de la muestra</th>\n",
       "      <th>Grosor del tumor</th>\n",
       "      <th>Uniformidad del tamño</th>\n",
       "      <th>Uniformidad de la forma</th>\n",
       "      <th>Adhesión marginal</th>\n",
       "      <th>Tamaño</th>\n",
       "      <th>Núcleos desnudos</th>\n",
       "      <th>Cromatina blanda</th>\n",
       "      <th>Nucléolos normales</th>\n",
       "      <th>Mitosis de células</th>\n",
       "      <th>Clase</th>\n",
       "    </tr>\n",
       "  </thead>\n",
       "  <tbody>\n",
       "    <tr>\n",
       "      <th>0</th>\n",
       "      <td>1002945</td>\n",
       "      <td>5</td>\n",
       "      <td>4</td>\n",
       "      <td>4</td>\n",
       "      <td>5</td>\n",
       "      <td>7</td>\n",
       "      <td>10</td>\n",
       "      <td>3</td>\n",
       "      <td>2</td>\n",
       "      <td>1</td>\n",
       "      <td>0</td>\n",
       "    </tr>\n",
       "    <tr>\n",
       "      <th>1</th>\n",
       "      <td>1015425</td>\n",
       "      <td>3</td>\n",
       "      <td>1</td>\n",
       "      <td>1</td>\n",
       "      <td>1</td>\n",
       "      <td>2</td>\n",
       "      <td>2</td>\n",
       "      <td>3</td>\n",
       "      <td>1</td>\n",
       "      <td>1</td>\n",
       "      <td>0</td>\n",
       "    </tr>\n",
       "    <tr>\n",
       "      <th>2</th>\n",
       "      <td>1016277</td>\n",
       "      <td>6</td>\n",
       "      <td>8</td>\n",
       "      <td>8</td>\n",
       "      <td>1</td>\n",
       "      <td>3</td>\n",
       "      <td>4</td>\n",
       "      <td>3</td>\n",
       "      <td>7</td>\n",
       "      <td>1</td>\n",
       "      <td>0</td>\n",
       "    </tr>\n",
       "    <tr>\n",
       "      <th>3</th>\n",
       "      <td>1017023</td>\n",
       "      <td>4</td>\n",
       "      <td>1</td>\n",
       "      <td>1</td>\n",
       "      <td>3</td>\n",
       "      <td>2</td>\n",
       "      <td>1</td>\n",
       "      <td>3</td>\n",
       "      <td>1</td>\n",
       "      <td>1</td>\n",
       "      <td>0</td>\n",
       "    </tr>\n",
       "    <tr>\n",
       "      <th>4</th>\n",
       "      <td>1017122</td>\n",
       "      <td>8</td>\n",
       "      <td>10</td>\n",
       "      <td>10</td>\n",
       "      <td>8</td>\n",
       "      <td>7</td>\n",
       "      <td>10</td>\n",
       "      <td>9</td>\n",
       "      <td>7</td>\n",
       "      <td>1</td>\n",
       "      <td>1</td>\n",
       "    </tr>\n",
       "    <tr>\n",
       "      <th>5</th>\n",
       "      <td>1018099</td>\n",
       "      <td>1</td>\n",
       "      <td>1</td>\n",
       "      <td>1</td>\n",
       "      <td>1</td>\n",
       "      <td>2</td>\n",
       "      <td>10</td>\n",
       "      <td>3</td>\n",
       "      <td>1</td>\n",
       "      <td>1</td>\n",
       "      <td>0</td>\n",
       "    </tr>\n",
       "    <tr>\n",
       "      <th>6</th>\n",
       "      <td>1018561</td>\n",
       "      <td>2</td>\n",
       "      <td>1</td>\n",
       "      <td>2</td>\n",
       "      <td>1</td>\n",
       "      <td>2</td>\n",
       "      <td>1</td>\n",
       "      <td>3</td>\n",
       "      <td>1</td>\n",
       "      <td>1</td>\n",
       "      <td>0</td>\n",
       "    </tr>\n",
       "    <tr>\n",
       "      <th>7</th>\n",
       "      <td>1033078</td>\n",
       "      <td>2</td>\n",
       "      <td>1</td>\n",
       "      <td>1</td>\n",
       "      <td>1</td>\n",
       "      <td>2</td>\n",
       "      <td>1</td>\n",
       "      <td>1</td>\n",
       "      <td>1</td>\n",
       "      <td>5</td>\n",
       "      <td>0</td>\n",
       "    </tr>\n",
       "    <tr>\n",
       "      <th>8</th>\n",
       "      <td>1033078</td>\n",
       "      <td>4</td>\n",
       "      <td>2</td>\n",
       "      <td>1</td>\n",
       "      <td>1</td>\n",
       "      <td>2</td>\n",
       "      <td>1</td>\n",
       "      <td>2</td>\n",
       "      <td>1</td>\n",
       "      <td>1</td>\n",
       "      <td>0</td>\n",
       "    </tr>\n",
       "    <tr>\n",
       "      <th>9</th>\n",
       "      <td>1035283</td>\n",
       "      <td>1</td>\n",
       "      <td>1</td>\n",
       "      <td>1</td>\n",
       "      <td>1</td>\n",
       "      <td>1</td>\n",
       "      <td>1</td>\n",
       "      <td>3</td>\n",
       "      <td>1</td>\n",
       "      <td>1</td>\n",
       "      <td>0</td>\n",
       "    </tr>\n",
       "  </tbody>\n",
       "</table>\n",
       "</div>"
      ],
      "text/plain": [
       "   Código de la muestra  Grosor del tumor  Uniformidad del tamño  \\\n",
       "0               1002945                 5                      4   \n",
       "1               1015425                 3                      1   \n",
       "2               1016277                 6                      8   \n",
       "3               1017023                 4                      1   \n",
       "4               1017122                 8                     10   \n",
       "5               1018099                 1                      1   \n",
       "6               1018561                 2                      1   \n",
       "7               1033078                 2                      1   \n",
       "8               1033078                 4                      2   \n",
       "9               1035283                 1                      1   \n",
       "\n",
       "   Uniformidad de la forma  Adhesión marginal  Tamaño Núcleos desnudos  \\\n",
       "0                        4                  5       7               10   \n",
       "1                        1                  1       2                2   \n",
       "2                        8                  1       3                4   \n",
       "3                        1                  3       2                1   \n",
       "4                       10                  8       7               10   \n",
       "5                        1                  1       2               10   \n",
       "6                        2                  1       2                1   \n",
       "7                        1                  1       2                1   \n",
       "8                        1                  1       2                1   \n",
       "9                        1                  1       1                1   \n",
       "\n",
       "   Cromatina blanda  Nucléolos normales  Mitosis de células  Clase  \n",
       "0                 3                   2                   1      0  \n",
       "1                 3                   1                   1      0  \n",
       "2                 3                   7                   1      0  \n",
       "3                 3                   1                   1      0  \n",
       "4                 9                   7                   1      1  \n",
       "5                 3                   1                   1      0  \n",
       "6                 3                   1                   1      0  \n",
       "7                 1                   1                   5      0  \n",
       "8                 2                   1                   1      0  \n",
       "9                 3                   1                   1      0  "
      ]
     },
     "execution_count": 6,
     "metadata": {},
     "output_type": "execute_result"
    }
   ],
   "source": [
    "df['Clase']=df['Clase'].replace(2,0)\n",
    "df['Clase']=df['Clase'].replace(4,1)\n",
    "df.head(10)"
   ]
  },
  {
   "cell_type": "markdown",
   "id": "b39bac74-3652-4cc9-8dab-896fc0d4aea1",
   "metadata": {},
   "source": [
    "## ¿Cómo tratar la información faltante?"
   ]
  },
  {
   "cell_type": "markdown",
   "id": "fc05a461-a79f-4d20-9a1b-766b02eac1bd",
   "metadata": {},
   "source": [
    "Puede haber distintas razones por las que hay datos faltantes, dependiendo de la razón será el tratamiento que le demos a estos datos.\n",
    "Existen 3 diferentes tipos de datos faltantes y cada tipo tiene diferentes forma de manejar los datos.\n",
    "\n",
    "### Tipo de datos faltantes\n",
    "\n",
    "#### Missing Completely At Random (MCAR)\n",
    "\n",
    "- No hay relación entre los datos faltantes y los observados. \n",
    "- Son totalmente independientes del conjunto de datos y no hay un patron. - Pueden deberse a un error humano o en el sistema de adquisición de datos. \n",
    "- La ventaja de este tipo de datos faltantes es que el analisis estadistico se mantiene sin sesgo.\n",
    "\n",
    "#### Missing At Random (MAR)\n",
    "\n",
    "- La razón por la que estos datos faltan puede explicarse por las variables que están presentes.\n",
    "- Existe un patron en los datos faltantes que depende de la variables presentes.\n",
    "- En este caso el análisis estadístico puede tener un sesgo.\n",
    "\n",
    "#### Missing Not At Random (MNAR)\n",
    "\n",
    "- Este tipo de datos dependen totalmente de los datos faltantes.\n",
    "- Hay un patron en los datos faltantes que no se puede explicar con los datos presentes.\n",
    "- Estos datos pueden resultar en un sesgo en el análisis estadístico.\n"
   ]
  },
  {
   "cell_type": "markdown",
   "id": "d0068792-8e69-4187-9bb4-1d74b075ded2",
   "metadata": {},
   "source": [
    "Vamos a examinar la columna 6, con Dtype object, para asegurarnos si hay información faltante y clasificarla en alguno de los 3 categorías anteriores."
   ]
  },
  {
   "cell_type": "code",
   "execution_count": 7,
   "id": "585ca438-95e3-4633-94e2-8141f8a682d3",
   "metadata": {},
   "outputs": [
    {
     "data": {
      "text/html": [
       "<div>\n",
       "<style scoped>\n",
       "    .dataframe tbody tr th:only-of-type {\n",
       "        vertical-align: middle;\n",
       "    }\n",
       "\n",
       "    .dataframe tbody tr th {\n",
       "        vertical-align: top;\n",
       "    }\n",
       "\n",
       "    .dataframe thead th {\n",
       "        text-align: right;\n",
       "    }\n",
       "</style>\n",
       "<table border=\"1\" class=\"dataframe\">\n",
       "  <thead>\n",
       "    <tr style=\"text-align: right;\">\n",
       "      <th></th>\n",
       "      <th>Código de la muestra</th>\n",
       "      <th>Grosor del tumor</th>\n",
       "      <th>Uniformidad del tamño</th>\n",
       "      <th>Uniformidad de la forma</th>\n",
       "      <th>Adhesión marginal</th>\n",
       "      <th>Tamaño</th>\n",
       "      <th>Núcleos desnudos</th>\n",
       "      <th>Cromatina blanda</th>\n",
       "      <th>Nucléolos normales</th>\n",
       "      <th>Mitosis de células</th>\n",
       "      <th>Clase</th>\n",
       "    </tr>\n",
       "  </thead>\n",
       "  <tbody>\n",
       "    <tr>\n",
       "      <th>22</th>\n",
       "      <td>1057013</td>\n",
       "      <td>8</td>\n",
       "      <td>4</td>\n",
       "      <td>5</td>\n",
       "      <td>1</td>\n",
       "      <td>2</td>\n",
       "      <td>?</td>\n",
       "      <td>7</td>\n",
       "      <td>3</td>\n",
       "      <td>1</td>\n",
       "      <td>1</td>\n",
       "    </tr>\n",
       "    <tr>\n",
       "      <th>39</th>\n",
       "      <td>1096800</td>\n",
       "      <td>6</td>\n",
       "      <td>6</td>\n",
       "      <td>6</td>\n",
       "      <td>9</td>\n",
       "      <td>6</td>\n",
       "      <td>?</td>\n",
       "      <td>7</td>\n",
       "      <td>8</td>\n",
       "      <td>1</td>\n",
       "      <td>0</td>\n",
       "    </tr>\n",
       "    <tr>\n",
       "      <th>138</th>\n",
       "      <td>1183246</td>\n",
       "      <td>1</td>\n",
       "      <td>1</td>\n",
       "      <td>1</td>\n",
       "      <td>1</td>\n",
       "      <td>1</td>\n",
       "      <td>?</td>\n",
       "      <td>2</td>\n",
       "      <td>1</td>\n",
       "      <td>1</td>\n",
       "      <td>0</td>\n",
       "    </tr>\n",
       "    <tr>\n",
       "      <th>144</th>\n",
       "      <td>1184840</td>\n",
       "      <td>1</td>\n",
       "      <td>1</td>\n",
       "      <td>3</td>\n",
       "      <td>1</td>\n",
       "      <td>2</td>\n",
       "      <td>?</td>\n",
       "      <td>2</td>\n",
       "      <td>1</td>\n",
       "      <td>1</td>\n",
       "      <td>0</td>\n",
       "    </tr>\n",
       "    <tr>\n",
       "      <th>157</th>\n",
       "      <td>1193683</td>\n",
       "      <td>1</td>\n",
       "      <td>1</td>\n",
       "      <td>2</td>\n",
       "      <td>1</td>\n",
       "      <td>3</td>\n",
       "      <td>?</td>\n",
       "      <td>1</td>\n",
       "      <td>1</td>\n",
       "      <td>1</td>\n",
       "      <td>0</td>\n",
       "    </tr>\n",
       "    <tr>\n",
       "      <th>163</th>\n",
       "      <td>1197510</td>\n",
       "      <td>5</td>\n",
       "      <td>1</td>\n",
       "      <td>1</td>\n",
       "      <td>1</td>\n",
       "      <td>2</td>\n",
       "      <td>?</td>\n",
       "      <td>3</td>\n",
       "      <td>1</td>\n",
       "      <td>1</td>\n",
       "      <td>0</td>\n",
       "    </tr>\n",
       "    <tr>\n",
       "      <th>234</th>\n",
       "      <td>1241232</td>\n",
       "      <td>3</td>\n",
       "      <td>1</td>\n",
       "      <td>4</td>\n",
       "      <td>1</td>\n",
       "      <td>2</td>\n",
       "      <td>?</td>\n",
       "      <td>3</td>\n",
       "      <td>1</td>\n",
       "      <td>1</td>\n",
       "      <td>0</td>\n",
       "    </tr>\n",
       "    <tr>\n",
       "      <th>248</th>\n",
       "      <td>169356</td>\n",
       "      <td>3</td>\n",
       "      <td>1</td>\n",
       "      <td>1</td>\n",
       "      <td>1</td>\n",
       "      <td>2</td>\n",
       "      <td>?</td>\n",
       "      <td>3</td>\n",
       "      <td>1</td>\n",
       "      <td>1</td>\n",
       "      <td>0</td>\n",
       "    </tr>\n",
       "    <tr>\n",
       "      <th>274</th>\n",
       "      <td>432809</td>\n",
       "      <td>3</td>\n",
       "      <td>1</td>\n",
       "      <td>3</td>\n",
       "      <td>1</td>\n",
       "      <td>2</td>\n",
       "      <td>?</td>\n",
       "      <td>2</td>\n",
       "      <td>1</td>\n",
       "      <td>1</td>\n",
       "      <td>0</td>\n",
       "    </tr>\n",
       "    <tr>\n",
       "      <th>291</th>\n",
       "      <td>563649</td>\n",
       "      <td>8</td>\n",
       "      <td>8</td>\n",
       "      <td>8</td>\n",
       "      <td>1</td>\n",
       "      <td>2</td>\n",
       "      <td>?</td>\n",
       "      <td>6</td>\n",
       "      <td>10</td>\n",
       "      <td>1</td>\n",
       "      <td>1</td>\n",
       "    </tr>\n",
       "    <tr>\n",
       "      <th>293</th>\n",
       "      <td>606140</td>\n",
       "      <td>1</td>\n",
       "      <td>1</td>\n",
       "      <td>1</td>\n",
       "      <td>1</td>\n",
       "      <td>2</td>\n",
       "      <td>?</td>\n",
       "      <td>2</td>\n",
       "      <td>1</td>\n",
       "      <td>1</td>\n",
       "      <td>0</td>\n",
       "    </tr>\n",
       "    <tr>\n",
       "      <th>296</th>\n",
       "      <td>61634</td>\n",
       "      <td>5</td>\n",
       "      <td>4</td>\n",
       "      <td>3</td>\n",
       "      <td>1</td>\n",
       "      <td>2</td>\n",
       "      <td>?</td>\n",
       "      <td>2</td>\n",
       "      <td>3</td>\n",
       "      <td>1</td>\n",
       "      <td>0</td>\n",
       "    </tr>\n",
       "    <tr>\n",
       "      <th>314</th>\n",
       "      <td>704168</td>\n",
       "      <td>4</td>\n",
       "      <td>6</td>\n",
       "      <td>5</td>\n",
       "      <td>6</td>\n",
       "      <td>7</td>\n",
       "      <td>?</td>\n",
       "      <td>4</td>\n",
       "      <td>9</td>\n",
       "      <td>1</td>\n",
       "      <td>0</td>\n",
       "    </tr>\n",
       "    <tr>\n",
       "      <th>320</th>\n",
       "      <td>733639</td>\n",
       "      <td>3</td>\n",
       "      <td>1</td>\n",
       "      <td>1</td>\n",
       "      <td>1</td>\n",
       "      <td>2</td>\n",
       "      <td>?</td>\n",
       "      <td>3</td>\n",
       "      <td>1</td>\n",
       "      <td>1</td>\n",
       "      <td>0</td>\n",
       "    </tr>\n",
       "    <tr>\n",
       "      <th>410</th>\n",
       "      <td>1238464</td>\n",
       "      <td>1</td>\n",
       "      <td>1</td>\n",
       "      <td>1</td>\n",
       "      <td>1</td>\n",
       "      <td>1</td>\n",
       "      <td>?</td>\n",
       "      <td>2</td>\n",
       "      <td>1</td>\n",
       "      <td>1</td>\n",
       "      <td>0</td>\n",
       "    </tr>\n",
       "    <tr>\n",
       "      <th>616</th>\n",
       "      <td>1057067</td>\n",
       "      <td>1</td>\n",
       "      <td>1</td>\n",
       "      <td>1</td>\n",
       "      <td>1</td>\n",
       "      <td>1</td>\n",
       "      <td>?</td>\n",
       "      <td>1</td>\n",
       "      <td>1</td>\n",
       "      <td>1</td>\n",
       "      <td>0</td>\n",
       "    </tr>\n",
       "  </tbody>\n",
       "</table>\n",
       "</div>"
      ],
      "text/plain": [
       "     Código de la muestra  Grosor del tumor  Uniformidad del tamño  \\\n",
       "22                1057013                 8                      4   \n",
       "39                1096800                 6                      6   \n",
       "138               1183246                 1                      1   \n",
       "144               1184840                 1                      1   \n",
       "157               1193683                 1                      1   \n",
       "163               1197510                 5                      1   \n",
       "234               1241232                 3                      1   \n",
       "248                169356                 3                      1   \n",
       "274                432809                 3                      1   \n",
       "291                563649                 8                      8   \n",
       "293                606140                 1                      1   \n",
       "296                 61634                 5                      4   \n",
       "314                704168                 4                      6   \n",
       "320                733639                 3                      1   \n",
       "410               1238464                 1                      1   \n",
       "616               1057067                 1                      1   \n",
       "\n",
       "     Uniformidad de la forma  Adhesión marginal  Tamaño Núcleos desnudos  \\\n",
       "22                         5                  1       2                ?   \n",
       "39                         6                  9       6                ?   \n",
       "138                        1                  1       1                ?   \n",
       "144                        3                  1       2                ?   \n",
       "157                        2                  1       3                ?   \n",
       "163                        1                  1       2                ?   \n",
       "234                        4                  1       2                ?   \n",
       "248                        1                  1       2                ?   \n",
       "274                        3                  1       2                ?   \n",
       "291                        8                  1       2                ?   \n",
       "293                        1                  1       2                ?   \n",
       "296                        3                  1       2                ?   \n",
       "314                        5                  6       7                ?   \n",
       "320                        1                  1       2                ?   \n",
       "410                        1                  1       1                ?   \n",
       "616                        1                  1       1                ?   \n",
       "\n",
       "     Cromatina blanda  Nucléolos normales  Mitosis de células  Clase  \n",
       "22                  7                   3                   1      1  \n",
       "39                  7                   8                   1      0  \n",
       "138                 2                   1                   1      0  \n",
       "144                 2                   1                   1      0  \n",
       "157                 1                   1                   1      0  \n",
       "163                 3                   1                   1      0  \n",
       "234                 3                   1                   1      0  \n",
       "248                 3                   1                   1      0  \n",
       "274                 2                   1                   1      0  \n",
       "291                 6                  10                   1      1  \n",
       "293                 2                   1                   1      0  \n",
       "296                 2                   3                   1      0  \n",
       "314                 4                   9                   1      0  \n",
       "320                 3                   1                   1      0  \n",
       "410                 2                   1                   1      0  \n",
       "616                 1                   1                   1      0  "
      ]
     },
     "execution_count": 7,
     "metadata": {},
     "output_type": "execute_result"
    }
   ],
   "source": [
    "df[df['Núcleos desnudos']=='?']"
   ]
  },
  {
   "cell_type": "markdown",
   "id": "5c197c17-b0dc-46db-b6d9-b3607a386aa4",
   "metadata": {},
   "source": [
    "A simple vista parace que los datos son MCAR."
   ]
  },
  {
   "cell_type": "markdown",
   "id": "fc9a20cf-bb2b-4496-b8b8-61dfe188c61a",
   "metadata": {},
   "source": [
    "### Tratamiento de datos faltantes"
   ]
  },
  {
   "cell_type": "markdown",
   "id": "72898dab-4ecc-4b77-9a69-2284fa5c43c4",
   "metadata": {},
   "source": [
    "#### Eliminando la información faltante"
   ]
  },
  {
   "cell_type": "markdown",
   "id": "75c49981-4950-461e-ae28-d7fff7e6123d",
   "metadata": {},
   "source": [
    "Si los datos son del tipo MNAR, no se recomienda este procemidiento, pero si se trata de datos MAR o MCAR, entonces se pueden eliminar, siempre y cuando no sea un gran porcentaje de datos que elimine información importante del conjunto. Se puede optar por elimar la columna o la fila entera, todo depende de la cantidad de información que será elimindada.\n"
   ]
  },
  {
   "cell_type": "markdown",
   "id": "46a4c703-a3d9-446e-a284-359568d578f4",
   "metadata": {},
   "source": [
    "En este caso, calculamos el porcentaje que falta, y al ver que es pequeño. Podemos optar por eliminar las filas con información faltante."
   ]
  },
  {
   "cell_type": "code",
   "execution_count": 8,
   "id": "5a6662f8-3082-40bf-ad8d-856c36e3b398",
   "metadata": {},
   "outputs": [
    {
     "data": {
      "text/plain": [
       "0.022922636103151862"
      ]
     },
     "execution_count": 8,
     "metadata": {},
     "output_type": "execute_result"
    }
   ],
   "source": [
    "sum(df['Núcleos desnudos']=='?')/ len(df)"
   ]
  },
  {
   "cell_type": "markdown",
   "id": "8ca48ab2-f3ce-45e5-9e5a-299e2cd754eb",
   "metadata": {},
   "source": [
    "Eliminamos las filas en donde la columna Núcleos desnudos tiene un ?"
   ]
  },
  {
   "cell_type": "code",
   "execution_count": 9,
   "id": "4ea04f32-7a4b-4429-807c-6ae9f3f1fb06",
   "metadata": {},
   "outputs": [],
   "source": [
    "indexes = list(df.index[df['Núcleos desnudos']=='?'])\n",
    "df_delete=df.drop(indexes)"
   ]
  },
  {
   "cell_type": "code",
   "execution_count": 10,
   "id": "22ca7ce5-cc3f-4d89-afa6-fb2e9c466d22",
   "metadata": {},
   "outputs": [
    {
     "name": "stdout",
     "output_type": "stream",
     "text": [
      "<class 'pandas.core.frame.DataFrame'>\n",
      "Int64Index: 682 entries, 0 to 697\n",
      "Data columns (total 11 columns):\n",
      " #   Column                   Non-Null Count  Dtype\n",
      "---  ------                   --------------  -----\n",
      " 0   Código de la muestra     682 non-null    int64\n",
      " 1   Grosor del tumor         682 non-null    int64\n",
      " 2   Uniformidad del tamño    682 non-null    int64\n",
      " 3   Uniformidad de la forma  682 non-null    int64\n",
      " 4   Adhesión marginal        682 non-null    int64\n",
      " 5   Tamaño                   682 non-null    int64\n",
      " 6   Núcleos desnudos         682 non-null    int64\n",
      " 7   Cromatina blanda         682 non-null    int64\n",
      " 8   Nucléolos normales       682 non-null    int64\n",
      " 9   Mitosis de células       682 non-null    int64\n",
      " 10  Clase                    682 non-null    int64\n",
      "dtypes: int64(11)\n",
      "memory usage: 63.9 KB\n"
     ]
    }
   ],
   "source": [
    "df_delete = df_delete.astype({\"Núcleos desnudos\": 'int64'})\n",
    "df_delete.info()"
   ]
  },
  {
   "cell_type": "code",
   "execution_count": 11,
   "id": "65f8d745-7fd2-4305-bde3-818bbb8771e6",
   "metadata": {},
   "outputs": [
    {
     "data": {
      "text/plain": [
       "0.0"
      ]
     },
     "execution_count": 11,
     "metadata": {},
     "output_type": "execute_result"
    }
   ],
   "source": [
    "sum(df_delete['Núcleos desnudos']=='?')/ len(df_delete)"
   ]
  },
  {
   "cell_type": "markdown",
   "id": "5dec1675-923b-4d92-a724-f88605ce02a0",
   "metadata": {},
   "source": [
    "Dividir aleatoramente el conjunto de datos con 60% de datos de entrenamiento, 20% de validación y 20% de prueba, usando 0 como semilla para el generador de números aleatorios."
   ]
  },
  {
   "cell_type": "code",
   "execution_count": 12,
   "id": "717a92cf-00f3-4377-a3b0-fb9437c0479d",
   "metadata": {},
   "outputs": [],
   "source": [
    "data = df_delete.to_numpy()\n",
    "x = data[:,1:-1]\n",
    "y = data[:,-1]\n",
    "x_ent1, x, y_ent1, y = train_test_split(x,y,train_size=0.60, random_state=0)\n",
    "x_val1, x_pru1, y_val1, y_pru1 = train_test_split(x,y,train_size=0.50, random_state=0)"
   ]
  },
  {
   "cell_type": "markdown",
   "id": "ac660445-757d-491a-9095-1776b122c9a3",
   "metadata": {},
   "source": [
    "##### Entrenamiento con CBI Multinomia, Categórico y Normal"
   ]
  },
  {
   "cell_type": "code",
   "execution_count": 13,
   "id": "17f5a6b5-c396-49d2-ba98-07ca93395cce",
   "metadata": {},
   "outputs": [
    {
     "data": {
      "text/plain": [
       "GaussianNB()"
      ]
     },
     "execution_count": 13,
     "metadata": {},
     "output_type": "execute_result"
    }
   ],
   "source": [
    "mnlb_del = MultinomialNBLog_Bernoulli()\n",
    "mnlb_del.fit(x_ent1, y_ent1)\n",
    "\n",
    "ctnb_del = CategoricalNB()\n",
    "ctnb_del.fit(x_ent1, y_ent1)\n",
    "\n",
    "clf_del = GaussianNB()\n",
    "clf_del.fit(x_ent1, y_ent1)"
   ]
  },
  {
   "cell_type": "markdown",
   "id": "87c278f7-30a9-4489-9eec-a77ddab6bbf6",
   "metadata": {},
   "source": [
    "##### Predicciones"
   ]
  },
  {
   "cell_type": "code",
   "execution_count": 14,
   "id": "d26ee1c4-e593-4469-83d1-62a21dd98daa",
   "metadata": {},
   "outputs": [
    {
     "data": {
      "image/png": "[encoded data removed]",
      "text/plain": [
       "<Figure size 720x504 with 2 Axes>"
      ]
     },
     "metadata": {},
     "output_type": "display_data"
    },
    {
     "data": {
      "image/png": "[encoded data removed]",
      "text/plain": [
       "<Figure size 720x504 with 2 Axes>"
      ]
     },
     "metadata": {},
     "output_type": "display_data"
    },
    {
     "data": {
      "image/png": "[encoded data removed]",
      "text/plain": [
       "<Figure size 720x504 with 2 Axes>"
      ]
     },
     "metadata": {},
     "output_type": "display_data"
    }
   ],
   "source": [
    "fig1, (ax1,ax2) = plt.subplots(1, 2, figsize=(10,7))\n",
    "fig1.suptitle('CBI Multinomial', fontsize=16,y=0.83)\n",
    "ax1.pie(mnlb_del.score(x_ent1,y_ent1),labels=['Correctas','Erroneas'], autopct='%1.1f%%')\n",
    "ax1.set_title('Entrenamiento')\n",
    "ax2.pie(mnlb_del.score(x_val1,y_val1),labels=['Correctas','Erroneas'], autopct='%1.1f%%')\n",
    "ax2.set_title('Validación')\n",
    "\n",
    "fig2, (ax1,ax2) = plt.subplots(1, 2, figsize=(10,7))\n",
    "fig2.suptitle('CBI Categórico', fontsize=16,y=0.83)\n",
    "ax1.pie(ctnb_del.score(x_ent1,y_ent1),labels=['Correctas','Erroneas'], autopct='%1.1f%%')\n",
    "ax1.set_title('Entrenamiento')\n",
    "ax2.pie(ctnb_del.score(x_val1,y_val1),labels=['Correctas','Erroneas'], autopct='%1.1f%%')\n",
    "ax2.set_title('Validación')\n",
    "\n",
    "#Calcular correctas y erroneas en el conjunto de entrenamiento\n",
    "corr=sum(clf_del.predict(x_ent1)==y_ent1)\n",
    "count_ent = [corr, len(y_ent1)-corr]\n",
    "\n",
    "#Calcular correctas y erroneas en el conjunto de validación\n",
    "corr=sum(clf_del.predict(x_val1)==y_val1)\n",
    "count_val = [corr, len(y_val1)-corr]\n",
    "\n",
    "fig3, (ax1,ax2) = plt.subplots(1, 2, figsize=(10,7))\n",
    "fig3.suptitle('CBI Normal', fontsize=16,y=0.83)\n",
    "ax1.pie(count_ent,labels=['Correctas','Erroneas'], autopct='%1.1f%%')\n",
    "ax1.set_title('Entrenamiento')\n",
    "ax2.pie(count_val,labels=['Correctas','Erroneas'], autopct='%1.1f%%')\n",
    "ax2.set_title('Validación')\n",
    "\n",
    "plt.show()"
   ]
  },
  {
   "cell_type": "markdown",
   "id": "2e5576cc-8c90-4498-9bf9-3b422e72906a",
   "metadata": {},
   "source": [
    "#### Remplazando los valores faltantes"
   ]
  },
  {
   "cell_type": "markdown",
   "id": "50a97c9e-0493-42bb-b6ad-55ede3554cba",
   "metadata": {},
   "source": [
    "Se pueden reemplazar los datos faltantes con valores arbitrarios, con el promedio, la media o la moda. También se utilizan otros métodos como interpolación.\n",
    "\n",
    "En este casi reemplazaremos los valores con la moda y veremos si hay algún cambio significativo en las predicciones.\n"
   ]
  },
  {
   "cell_type": "code",
   "execution_count": 15,
   "id": "1739b6a7-6ae7-4d24-b9f5-d00175c99ff5",
   "metadata": {},
   "outputs": [
    {
     "data": {
      "text/plain": [
       "<AxesSubplot:>"
      ]
     },
     "execution_count": 15,
     "metadata": {},
     "output_type": "execute_result"
    },
    {
     "data": {
      "image/png": "[encoded data removed]",
      "text/plain": [
       "<Figure size 432x288 with 1 Axes>"
      ]
     },
     "metadata": {
      "needs_background": "light"
     },
     "output_type": "display_data"
    }
   ],
   "source": [
    "df[\"Núcleos desnudos\"].hist()"
   ]
  },
  {
   "cell_type": "code",
   "execution_count": 16,
   "id": "427fb68c-840b-4bf7-9a99-4491d5a04c93",
   "metadata": {},
   "outputs": [],
   "source": [
    "df_mean = df.replace('?',1)\n",
    "df_mean = df_mean.astype({\"Núcleos desnudos\": 'int64'})"
   ]
  },
  {
   "cell_type": "markdown",
   "id": "da4382df-997a-45c6-985e-7dd68b5351ea",
   "metadata": {},
   "source": [
    "Dividir aleatoramente el conjunto de datos con 60% de datos de entrenamiento, 20% de validación y 20% de prueba, usando 0 como semilla para el generador de números aleatorios."
   ]
  },
  {
   "cell_type": "code",
   "execution_count": 17,
   "id": "c3461a7e-cc88-4db1-955d-b51e0917666b",
   "metadata": {},
   "outputs": [],
   "source": [
    "data = df_mean.to_numpy()\n",
    "x = data[:,1:-1]\n",
    "y = data[:,-1]\n",
    "x_ent2, x, y_ent2, y = train_test_split(x,y,train_size=0.60, random_state=0)\n",
    "x_val2, x_pru2, y_val2, y_pru2 = train_test_split(x,y,train_size=0.50, random_state=0)"
   ]
  },
  {
   "cell_type": "markdown",
   "id": "a8051d41-b4c4-44e7-ac11-96cccff31b1f",
   "metadata": {},
   "source": [
    "##### Entrenamiento con CBI Multinomial y Categórico"
   ]
  },
  {
   "cell_type": "code",
   "execution_count": 18,
   "id": "6dfdac40-1d9f-44c0-a4b0-cd096b54301b",
   "metadata": {},
   "outputs": [
    {
     "data": {
      "text/plain": [
       "GaussianNB()"
      ]
     },
     "execution_count": 18,
     "metadata": {},
     "output_type": "execute_result"
    }
   ],
   "source": [
    "mnlb_mean = MultinomialNBLog_Bernoulli()\n",
    "mnlb_mean.fit(x_ent2, y_ent2)\n",
    "\n",
    "ctnb_mean = CategoricalNB()\n",
    "ctnb_mean.fit(x_ent2, y_ent2)\n",
    "\n",
    "clf_mean = GaussianNB()\n",
    "clf_mean.fit(x_ent2, y_ent2)"
   ]
  },
  {
   "cell_type": "markdown",
   "id": "b10a91f5-e6bb-44d0-b29e-50b047a47ce1",
   "metadata": {},
   "source": [
    "##### Predicciones"
   ]
  },
  {
   "cell_type": "code",
   "execution_count": 19,
   "id": "5285288d-8a82-48e2-a909-8dd5a15fc738",
   "metadata": {},
   "outputs": [
    {
     "data": {
      "image/png": "[encoded data removed]",
      "text/plain": [
       "<Figure size 720x504 with 2 Axes>"
      ]
     },
     "metadata": {},
     "output_type": "display_data"
    },
    {
     "data": {
      "image/png": "[encoded data removed]",
      "text/plain": [
       "<Figure size 720x504 with 2 Axes>"
      ]
     },
     "metadata": {},
     "output_type": "display_data"
    },
    {
     "data": {
      "image/png": "[encoded data removed]",
      "text/plain": [
       "<Figure size 720x504 with 2 Axes>"
      ]
     },
     "metadata": {},
     "output_type": "display_data"
    }
   ],
   "source": [
    "fig1, (ax1,ax2) = plt.subplots(1, 2, figsize=(10,7))\n",
    "fig1.suptitle('CBI Multinomial', fontsize=16,y=0.83)\n",
    "ax1.pie(mnlb_mean.score(x_ent2,y_ent2),labels=['Correctas','Erroneas'], autopct='%1.1f%%')\n",
    "ax1.set_title('Entrenamiento')\n",
    "ax2.pie(mnlb_mean.score(x_val2,y_val2),labels=['Correctas','Erroneas'], autopct='%1.1f%%')\n",
    "ax2.set_title('Validación')\n",
    "\n",
    "fig2, (ax1,ax2) = plt.subplots(1, 2, figsize=(10,7))\n",
    "fig2.suptitle('CBI Categórico', fontsize=16,y=0.83)\n",
    "ax1.pie(ctnb_mean.score(x_ent2,y_ent2),labels=['Correctas','Erroneas'], autopct='%1.1f%%')\n",
    "ax1.set_title('Entrenamiento')\n",
    "ax2.pie(ctnb_mean.score(x_val2,y_val2),labels=['Correctas','Erroneas'], autopct='%1.1f%%')\n",
    "ax2.set_title('Validación')\n",
    "\n",
    "#Calcular correctas y erroneas en el conjunto de entrenamiento\n",
    "corr=sum(clf_mean.predict(x_ent2)==y_ent2)\n",
    "count_ent = [corr, len(y_ent2)-corr]\n",
    "\n",
    "#Calcular correctas y erroneas en el conjunto de validación\n",
    "corr=sum(clf_mean.predict(x_val2)==y_val2)\n",
    "count_val = [corr, len(y_val2)-corr]\n",
    "\n",
    "fig3, (ax1,ax2) = plt.subplots(1, 2, figsize=(10,7))\n",
    "fig3.suptitle('CBI Normal', fontsize=16,y=0.83)\n",
    "ax1.pie(count_ent,labels=['Correctas','Erroneas'], autopct='%1.1f%%')\n",
    "ax1.set_title('Entrenamiento')\n",
    "ax2.pie(count_val,labels=['Correctas','Erroneas'], autopct='%1.1f%%')\n",
    "ax2.set_title('Validación')\n",
    "\n",
    "plt.show()"
   ]
  },
  {
   "cell_type": "markdown",
   "id": "b15fda2c-eb7e-4e2b-98c3-d3b97fd561c9",
   "metadata": {},
   "source": [
    "## Conjunto de datos con mejor rendimiento"
   ]
  },
  {
   "cell_type": "markdown",
   "id": "a34f19a7-0b8b-4a26-8882-b12942ee9abb",
   "metadata": {},
   "source": [
    "El clasificador que más predicciones correctas tuvo en el conjunto de entrenamiento como en el de validación fue el categórico."
   ]
  },
  {
   "cell_type": "code",
   "execution_count": 25,
   "id": "765d3fa2-adeb-41a9-9f93-98be8247ebbf",
   "metadata": {},
   "outputs": [
    {
     "data": {
      "image/png": "[encoded data removed]",
      "text/plain": [
       "<Figure size 432x288 with 1 Axes>"
      ]
     },
     "metadata": {},
     "output_type": "display_data"
    }
   ],
   "source": [
    "#Calcular correctas y erroneas en el conjunto de prueba\n",
    "corr=sum(clf_mean.predict(x_pru1)==y_pru1)\n",
    "count_pru = [corr, len(y_pru1)-corr]\n",
    "\n",
    "plt.pie(count_pru,labels=['Correctas','Erroneas'], autopct='%1.1f%%')\n",
    "plt.title('Prueba')\n",
    "plt.show()"
   ]
  },
  {
   "cell_type": "code",
   "execution_count": 27,
   "id": "1e84f08c-0c22-4a6c-b00a-9fa01fdce878",
   "metadata": {},
   "outputs": [
    {
     "data": {
      "image/png": "[encoded data removed]",
      "text/plain": [
       "<Figure size 432x288 with 1 Axes>"
      ]
     },
     "metadata": {},
     "output_type": "display_data"
    }
   ],
   "source": [
    "plt.pie(ctnb_del.score(x_pru1,y_pru1),labels=['Correctas','Erroneas'], autopct='%1.1f%%')\n",
    "plt.title('Prueba')\n",
    "plt.show()"
   ]
  },
  {
   "cell_type": "markdown",
   "id": "8a8227cb-188e-4490-8f05-fd32a2c04be0",
   "metadata": {},
   "source": [
    "## Observaciones y comentarios"
   ]
  },
  {
   "cell_type": "markdown",
   "id": "7b851a2a-9093-4f7c-b446-70080d55068f",
   "metadata": {},
   "source": [
    "Se utilizaron 3 tipos de distribuciones para los datos: multinomial, categórico y normal.\n",
    "\n",
    "En las primeras dos se utilizó el logaritmo para calcular las probabilidades, pues se tiene un gran número de multiplicaciones. También se usó el estimador por maxima verosimilitud y para las clases siempre se utilizó una distribución de bernoulli. El clasificador que obtuvo mejores resultados en el conjunto de entrenamiento fue el categórico, por la naturaleza de los datos y como estos se almacenaron. Sin embargo, en el conjunto de validación, se tiene una mejor generalización con el clasificador con una distribución normal. Finalmente, en el conjunto de prueba el modelo categórico tiene menor porcentaje de predicciones erroneas que el modelo normal.\n",
    "\n",
    "Se emplearon dos formas para tratar los datos faltantes: eliminar las filas que contenian atributos faltantes y reemplazar los valores faltantes con la moda. Con el primer método se obtuvo mejores resultados en ambos clasificadores, pues el porcentaje de datos faltantes es muy pequeño, alrededor del $2\\%$."
   ]
  }
 ],
 "metadata": {
  "kernelspec": {
   "display_name": "Python 3",
   "language": "python",
   "name": "python3"
  },
  "language_info": {
   "codemirror_mode": {
    "name": "ipython",
    "version": 3
   },
   "file_extension": ".py",
   "mimetype": "text/x-python",
   "name": "python",
   "nbconvert_exporter": "python",
   "pygments_lexer": "ipython3",
   "version": "3.9.10"
  }
 },
 "nbformat": 4,
 "nbformat_minor": 5
}
